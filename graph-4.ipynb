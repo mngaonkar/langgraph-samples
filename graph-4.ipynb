{
 "cells": [
  {
   "cell_type": "code",
   "execution_count": 67,
   "metadata": {},
   "outputs": [],
   "source": [
    "from langchain_openai import ChatOpenAI \n",
    "from dotenv import load_dotenv\n",
    "import os\n",
    "from langgraph.prebuilt import ToolNode, tools_condition\n",
    "from langgraph.graph import StateGraph, START, END, MessagesState \n",
    "from langchain_core.messages import SystemMessage, HumanMessage\n",
    "from IPython.display import display, Image\n",
    "from langgraph.checkpoint.memory import MemorySaver"
   ]
  },
  {
   "cell_type": "code",
   "execution_count": 68,
   "metadata": {},
   "outputs": [
    {
     "data": {
      "text/plain": [
       "True"
      ]
     },
     "execution_count": 68,
     "metadata": {},
     "output_type": "execute_result"
    }
   ],
   "source": [
    "load_dotenv()"
   ]
  },
  {
   "cell_type": "code",
   "execution_count": 69,
   "metadata": {},
   "outputs": [],
   "source": [
    "def add(a: int, b: int):\n",
    "    \"\"\"Add two numbers.\n",
    "    Args: \n",
    "    a - integer\n",
    "    b - integer\n",
    "    \"\"\"\n",
    "    return 2 + 2"
   ]
  },
  {
   "cell_type": "code",
   "execution_count": 70,
   "metadata": {},
   "outputs": [],
   "source": [
    "def subtract(a: int, b: int):\n",
    "    \"\"\"Subtract two numbers.\n",
    "    Args: \n",
    "    a - integer\n",
    "    b - integer\n",
    "    \"\"\"\n",
    "    return a - b"
   ]
  },
  {
   "cell_type": "code",
   "execution_count": 71,
   "metadata": {},
   "outputs": [],
   "source": [
    "def multiply(a: int, b: int):\n",
    "    \"\"\"Multiply two numbers.\n",
    "    Args: \n",
    "    a - integer\n",
    "    b - integer\n",
    "    \"\"\"\n",
    "    return a * b"
   ]
  },
  {
   "cell_type": "code",
   "execution_count": 72,
   "metadata": {},
   "outputs": [],
   "source": [
    "def divide(a: int, b: int):\n",
    "    \"\"\"Divide two numbers.\n",
    "    Args: \n",
    "    a - integer\n",
    "    b - integer\n",
    "    \"\"\"\n",
    "    return a / b"
   ]
  },
  {
   "cell_type": "code",
   "execution_count": 73,
   "metadata": {},
   "outputs": [],
   "source": [
    "llm = ChatOpenAI(model=\"gpt-4o\", temperature=0, openai_api_key=os.getenv(\"OPENAI_API_KEY\"))"
   ]
  },
  {
   "cell_type": "code",
   "execution_count": 74,
   "metadata": {},
   "outputs": [],
   "source": [
    "llm_with_tools = llm.bind_tools([add, subtract, multiply, divide]\n",
    "                              )"
   ]
  },
  {
   "cell_type": "code",
   "execution_count": 75,
   "metadata": {},
   "outputs": [],
   "source": [
    "def tool_calling_llm(state: MessagesState):\n",
    "    return {\"messages\": [llm_with_tools.invoke(state[\"messages\"])]}"
   ]
  },
  {
   "cell_type": "code",
   "execution_count": 76,
   "metadata": {},
   "outputs": [
    {
     "data": {
      "text/plain": [
       "<langgraph.graph.state.StateGraph at 0x1260bf5d0>"
      ]
     },
     "execution_count": 76,
     "metadata": {},
     "output_type": "execute_result"
    }
   ],
   "source": [
    "builder = StateGraph(MessagesState)\n",
    "builder.add_node(\"tool_calling_llm\", tool_calling_llm)\n",
    "builder.add_node(\"tools\", ToolNode([add, subtract, multiply, divide]))\n",
    "builder.add_edge(START, \"tool_calling_llm\")\n",
    "builder.add_conditional_edges(\"tool_calling_llm\", tools_condition, \"tools\")\n",
    "builder.add_edge(\"tools\", \"tool_calling_llm\")\n",
    "builder.add_edge(\"tools\", END)"
   ]
  },
  {
   "cell_type": "code",
   "execution_count": 82,
   "metadata": {},
   "outputs": [],
   "source": [
    "graph = builder.compile(checkpointer=MemorySaver())\n",
    "# display(Image(graph.get_graph().draw_mermaid_png()))"
   ]
  },
  {
   "cell_type": "code",
   "execution_count": 83,
   "metadata": {},
   "outputs": [],
   "source": [
    "messages = [HumanMessage(content=\"add 2 and 3 then multiply by 10 and then divide by 5\")]\n",
    "config = {\"configurable\": {\"thread_id\": 1}}"
   ]
  },
  {
   "cell_type": "code",
   "execution_count": 84,
   "metadata": {},
   "outputs": [
    {
     "name": "stdout",
     "output_type": "stream",
     "text": [
      "================================\u001b[1m Human Message \u001b[0m=================================\n",
      "\n",
      "add 2 and 3 then multiply by 10 and then divide by 5\n",
      "==================================\u001b[1m Ai Message \u001b[0m==================================\n",
      "Tool Calls:\n",
      "  add (call_pTsT1tFMjFAI7lZoht38ZMi8)\n",
      " Call ID: call_pTsT1tFMjFAI7lZoht38ZMi8\n",
      "  Args:\n",
      "    a: 2\n",
      "    b: 3\n",
      "  multiply (call_IaNog9mSjDYqC5Jr4Lm1vE6G)\n",
      " Call ID: call_IaNog9mSjDYqC5Jr4Lm1vE6G\n",
      "  Args:\n",
      "    a: 5\n",
      "    b: 10\n",
      "=================================\u001b[1m Tool Message \u001b[0m=================================\n",
      "Name: add\n",
      "\n",
      "4\n",
      "=================================\u001b[1m Tool Message \u001b[0m=================================\n",
      "Name: multiply\n",
      "\n",
      "50\n",
      "==================================\u001b[1m Ai Message \u001b[0m==================================\n",
      "Tool Calls:\n",
      "  divide (call_Qxqzs400Pmn2UkSghQTwapJm)\n",
      " Call ID: call_Qxqzs400Pmn2UkSghQTwapJm\n",
      "  Args:\n",
      "    a: 50\n",
      "    b: 5\n",
      "=================================\u001b[1m Tool Message \u001b[0m=================================\n",
      "Name: divide\n",
      "\n",
      "10.0\n",
      "==================================\u001b[1m Ai Message \u001b[0m==================================\n",
      "\n",
      "The result of adding 2 and 3, then multiplying by 10, and finally dividing by 5 is 10.0.\n"
     ]
    }
   ],
   "source": [
    "output = graph.invoke({\"messages\": messages}, config=config)\n",
    "for item in output[\"messages\"]:\n",
    "    item.pretty_print()"
   ]
  },
  {
   "cell_type": "code",
   "execution_count": 85,
   "metadata": {},
   "outputs": [
    {
     "name": "stdout",
     "output_type": "stream",
     "text": [
      "================================\u001b[1m Human Message \u001b[0m=================================\n",
      "\n",
      "add 2 and 3 then multiply by 10 and then divide by 5\n",
      "==================================\u001b[1m Ai Message \u001b[0m==================================\n",
      "Tool Calls:\n",
      "  add (call_pTsT1tFMjFAI7lZoht38ZMi8)\n",
      " Call ID: call_pTsT1tFMjFAI7lZoht38ZMi8\n",
      "  Args:\n",
      "    a: 2\n",
      "    b: 3\n",
      "  multiply (call_IaNog9mSjDYqC5Jr4Lm1vE6G)\n",
      " Call ID: call_IaNog9mSjDYqC5Jr4Lm1vE6G\n",
      "  Args:\n",
      "    a: 5\n",
      "    b: 10\n",
      "=================================\u001b[1m Tool Message \u001b[0m=================================\n",
      "Name: add\n",
      "\n",
      "4\n",
      "=================================\u001b[1m Tool Message \u001b[0m=================================\n",
      "Name: multiply\n",
      "\n",
      "50\n",
      "==================================\u001b[1m Ai Message \u001b[0m==================================\n",
      "Tool Calls:\n",
      "  divide (call_Qxqzs400Pmn2UkSghQTwapJm)\n",
      " Call ID: call_Qxqzs400Pmn2UkSghQTwapJm\n",
      "  Args:\n",
      "    a: 50\n",
      "    b: 5\n",
      "=================================\u001b[1m Tool Message \u001b[0m=================================\n",
      "Name: divide\n",
      "\n",
      "10.0\n",
      "==================================\u001b[1m Ai Message \u001b[0m==================================\n",
      "\n",
      "The result of adding 2 and 3, then multiplying by 10, and finally dividing by 5 is 10.0.\n",
      "================================\u001b[1m Human Message \u001b[0m=================================\n",
      "\n",
      "multiply by 2\n",
      "==================================\u001b[1m Ai Message \u001b[0m==================================\n",
      "Tool Calls:\n",
      "  multiply (call_zSvYVPJEETkw2Ld82Ehxc69a)\n",
      " Call ID: call_zSvYVPJEETkw2Ld82Ehxc69a\n",
      "  Args:\n",
      "    a: 10\n",
      "    b: 2\n",
      "=================================\u001b[1m Tool Message \u001b[0m=================================\n",
      "Name: multiply\n",
      "\n",
      "20\n",
      "==================================\u001b[1m Ai Message \u001b[0m==================================\n",
      "\n",
      "The result of multiplying 10 by 2 is 20.\n"
     ]
    }
   ],
   "source": [
    "messages = [HumanMessage(content=\"multiply by 2\")]\n",
    "\n",
    "output = graph.invoke({\"messages\": messages}, config=config)\n",
    "for item in output[\"messages\"]:\n",
    "    item.pretty_print()"
   ]
  },
  {
   "cell_type": "code",
   "execution_count": null,
   "metadata": {},
   "outputs": [],
   "source": []
  }
 ],
 "metadata": {
  "kernelspec": {
   "display_name": "berkeley_ai",
   "language": "python",
   "name": "berkeley_ai"
  },
  "language_info": {
   "codemirror_mode": {
    "name": "ipython",
    "version": 3
   },
   "file_extension": ".py",
   "mimetype": "text/x-python",
   "name": "python",
   "nbconvert_exporter": "python",
   "pygments_lexer": "ipython3",
   "version": "3.11.11"
  }
 },
 "nbformat": 4,
 "nbformat_minor": 2
}
