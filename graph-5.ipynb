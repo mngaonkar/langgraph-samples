{
 "cells": [
  {
   "cell_type": "code",
   "execution_count": 3,
   "id": "6433967b",
   "metadata": {},
   "outputs": [],
   "source": [
    "from langchain_openai import ChatOpenAI \n",
    "from dotenv import load_dotenv\n",
    "import os\n",
    "from langgraph.prebuilt import ToolNode, tools_condition\n",
    "from langgraph.graph import StateGraph, START, END, MessagesState \n",
    "from langchain_core.messages import SystemMessage, HumanMessage\n",
    "from IPython.display import display, Image\n",
    "from langgraph.checkpoint.memory import MemorySaver\n",
    "from typing import TypedDict"
   ]
  },
  {
   "cell_type": "code",
   "execution_count": 5,
   "id": "2f5040c4",
   "metadata": {},
   "outputs": [],
   "source": [
    "class InputState(TypedDict):\n",
    "    \"\"\"State for the input node.\"\"\"\n",
    "    input: str\n",
    "\n",
    "class OutputState(TypedDict):\n",
    "    \"\"\"State for the output node.\"\"\"\n",
    "    output: str\n",
    "\n",
    "class OverallState(TypedDict):\n",
    "    \"\"\"Overall state for the graph.\"\"\"\n",
    "    input: InputState\n",
    "    output: OutputState\n",
    "\n",
    "class PrivateState(TypedDict):\n",
    "    \"\"\"Private state for the graph.\"\"\"\n",
    "    message: str"
   ]
  },
  {
   "cell_type": "code",
   "execution_count": 26,
   "id": "c3621efb",
   "metadata": {},
   "outputs": [],
   "source": [
    "def node_1(state: InputState) -> OverallState:\n",
    "    \"\"\"Node 1: Get input from the user.\"\"\"\n",
    "    return {\"input\": state[\"input\"]}\n",
    "\n",
    "def node_2(state: OverallState) -> PrivateState:\n",
    "    \"\"\"Node 2: Process the input and generate output.\"\"\"\n",
    "    # Simulate some processing\n",
    "    output = f\"Processed: {state['input']}\"\n",
    "    return {\"message\": output}\n",
    "\n",
    "def node_3(state: PrivateState) -> OverallState:\n",
    "    \"\"\"Node 3: Display the output.\"\"\"\n",
    "    # Simulate displaying the output\n",
    "    return {\"output\": state[\"message\"]}"
   ]
  },
  {
   "cell_type": "code",
   "execution_count": 27,
   "id": "fbd06738",
   "metadata": {},
   "outputs": [
    {
     "data": {
      "text/plain": [
       "<langgraph.graph.state.StateGraph at 0x128796750>"
      ]
     },
     "execution_count": 27,
     "metadata": {},
     "output_type": "execute_result"
    }
   ],
   "source": [
    "builder = StateGraph(OverallState, input=InputState, output=OutputState)\n",
    "builder.add_node(\"node_1\", node_1)\n",
    "builder.add_node(\"node_2\", node_2)\n",
    "builder.add_node(\"node_3\", node_3)\n",
    "builder.add_edge(START, \"node_1\")\n",
    "builder.add_edge(\"node_1\", \"node_2\")\n",
    "builder.add_edge(\"node_2\", \"node_3\")\n",
    "builder.add_edge(\"node_3\", END)"
   ]
  },
  {
   "cell_type": "code",
   "execution_count": 28,
   "id": "d558c514",
   "metadata": {},
   "outputs": [],
   "source": [
    "graph = builder.compile()"
   ]
  },
  {
   "cell_type": "code",
   "execution_count": 29,
   "id": "674d03b0",
   "metadata": {},
   "outputs": [],
   "source": [
    "result = graph.invoke({\"input\": \"Hello, world!\"})"
   ]
  },
  {
   "cell_type": "code",
   "execution_count": 30,
   "id": "6da660a3",
   "metadata": {},
   "outputs": [
    {
     "name": "stdout",
     "output_type": "stream",
     "text": [
      "{'output': 'Processed: Hello, world!'}\n"
     ]
    }
   ],
   "source": [
    "print(result)"
   ]
  },
  {
   "cell_type": "code",
   "execution_count": null,
   "id": "1328a9b2",
   "metadata": {},
   "outputs": [],
   "source": []
  },
  {
   "cell_type": "code",
   "execution_count": null,
   "id": "9745bc64",
   "metadata": {},
   "outputs": [],
   "source": []
  }
 ],
 "metadata": {
  "kernelspec": {
   "display_name": "berkeley_ai",
   "language": "python",
   "name": "berkeley_ai"
  },
  "language_info": {
   "codemirror_mode": {
    "name": "ipython",
    "version": 3
   },
   "file_extension": ".py",
   "mimetype": "text/x-python",
   "name": "python",
   "nbconvert_exporter": "python",
   "pygments_lexer": "ipython3",
   "version": "3.12.9"
  }
 },
 "nbformat": 4,
 "nbformat_minor": 5
}
