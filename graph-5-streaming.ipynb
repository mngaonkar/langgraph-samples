{
 "cells": [
  {
   "cell_type": "code",
   "execution_count": 19,
   "id": "7a039a8b",
   "metadata": {},
   "outputs": [],
   "source": [
    "from langchain_openai import ChatOpenAI\n",
    "from langchain_core.messages import SystemMessage, HumanMessage, RemoveMessage\n",
    "from langgraph.checkpoint.memory import MemorySaver\n",
    "from langgraph.graph import StateGraph, START, END\n",
    "from langgraph.graph import MessagesState\n",
    "from IPython.display import display, Image"
   ]
  },
  {
   "cell_type": "code",
   "execution_count": 20,
   "id": "6e95cb88",
   "metadata": {},
   "outputs": [],
   "source": [
    "model = ChatOpenAI(\n",
    "    temperature=0,\n",
    "    model=\"gpt-3.5-turbo\")"
   ]
  },
  {
   "cell_type": "code",
   "execution_count": 21,
   "id": "6ae9a22f",
   "metadata": {},
   "outputs": [],
   "source": [
    "class State(MessagesState):\n",
    "    summary: str"
   ]
  },
  {
   "cell_type": "code",
   "execution_count": 22,
   "id": "8cc1ea11",
   "metadata": {},
   "outputs": [],
   "source": [
    "def call_model(state: State):\n",
    "    summary = state.get(\"summary\" \"\")\n",
    "\n",
    "    if summary:\n",
    "        system_message = f\"summary of the conversation: {summary}\"\n",
    "        messages = [SystemMessage(content=system_message)] + state[\"messages\"]\n",
    "    else:\n",
    "        messages = state[\"messages\"]\n",
    "\n",
    "    response = model.invoke(messages)\n",
    "    return {\"messages\": response}\n"
   ]
  },
  {
   "cell_type": "code",
   "execution_count": 23,
   "id": "aaeea86f",
   "metadata": {},
   "outputs": [],
   "source": [
    "def summarize_conversation(state: State):\n",
    "    summary = state.get(\"summary\" \"\")\n",
    "    if summary:\n",
    "        summary_message = (\n",
    "            f\"This is summary of the conversation so far: {summary}\",\n",
    "            \"Extend the summary taking into consideration messages above:\",\n",
    "        )\n",
    "    else:\n",
    "        summary_message = \"create a summary of the conversation above:\"\n",
    "\n",
    "    messages = state[\"messages\"] + [HumanMessage(content=summary_message)]\n",
    "    response = model.invoke(messages)\n",
    "    delete_messages = [RemoveMessage(id=m.id) for m in state[\"messages\"][:-2]]\n",
    "\n",
    "    return {\"summary\": response.content, \"messages\": delete_messages}\n",
    "    "
   ]
  },
  {
   "cell_type": "code",
   "execution_count": 24,
   "id": "0f4458e8",
   "metadata": {},
   "outputs": [],
   "source": [
    "def should_continue(state: State):\n",
    "    \"\"\" return the next state \"\"\"\n",
    "    messages = state[\"messages\"]\n",
    "    if len(messages) > 6:\n",
    "        return \"summarize_conversation\"\n",
    "    return END"
   ]
  },
  {
   "cell_type": "code",
   "execution_count": 25,
   "id": "a3c1cb45",
   "metadata": {},
   "outputs": [
    {
     "data": {
      "text/plain": [
       "<langgraph.graph.state.StateGraph at 0x1216b01a0>"
      ]
     },
     "execution_count": 25,
     "metadata": {},
     "output_type": "execute_result"
    }
   ],
   "source": [
    "workflow = StateGraph(State)\n",
    "workflow.add_node(\"conversation\", call_model)\n",
    "workflow.add_node(summarize_conversation)\n",
    "\n",
    "workflow.add_edge(START, \"conversation\")\n",
    "workflow.add_conditional_edges(\"conversation\", should_continue)\n",
    "workflow.add_edge(\"summarize_conversation\", END)"
   ]
  },
  {
   "cell_type": "code",
   "execution_count": 26,
   "id": "9bb4100e",
   "metadata": {},
   "outputs": [
    {
     "data": {
      "image/png": "[encoded data removed]",
      "text/plain": [
       "<IPython.core.display.Image object>"
      ]
     },
     "metadata": {},
     "output_type": "display_data"
    }
   ],
   "source": [
    "memory = MemorySaver()\n",
    "graph = workflow.compile(checkpointer=memory)\n",
    "display(Image(graph.get_graph().draw_mermaid_png()))"
   ]
  },
  {
   "cell_type": "code",
   "execution_count": 27,
   "id": "1cbd95ab",
   "metadata": {},
   "outputs": [],
   "source": [
    "config = {\"configurable\": {\"thread_id\": 1}}"
   ]
  },
  {
   "cell_type": "code",
   "execution_count": 28,
   "id": "8b70a31e",
   "metadata": {},
   "outputs": [],
   "source": [
    "# for chunk in graph.stream({\"messages\": [HumanMessage(content=\"Hi, I am mahadev\")]}, config=config, stream_mode=\"update\"):\n",
    "#     print(chunk)\n",
    "    "
   ]
  },
  {
   "cell_type": "code",
   "execution_count": 29,
   "id": "3dfbc688",
   "metadata": {},
   "outputs": [
    {
     "data": {
      "text/plain": [
       "{'messages': [HumanMessage(content='Hi, I am mahadev', additional_kwargs={}, response_metadata={}, id='646ffb5a-64fb-4f0c-8174-b2a588d2688e'),\n",
       "  AIMessage(content='Hello Mahadev, how can I assist you today?', additional_kwargs={'refusal': None}, response_metadata={'token_usage': {'completion_tokens': 13, 'prompt_tokens': 14, 'total_tokens': 27, 'completion_tokens_details': {'accepted_prediction_tokens': 0, 'audio_tokens': 0, 'reasoning_tokens': 0, 'rejected_prediction_tokens': 0}, 'prompt_tokens_details': {'audio_tokens': 0, 'cached_tokens': 0}}, 'model_name': 'gpt-3.5-turbo-0125', 'system_fingerprint': None, 'id': 'chatcmpl-BWeiX7r1zfoZc7HZzdgvlzb431MFY', 'service_tier': 'default', 'finish_reason': 'stop', 'logprobs': None}, id='run--fee9e99e-9318-4ba9-a15b-be89e2feeedb-0', usage_metadata={'input_tokens': 14, 'output_tokens': 13, 'total_tokens': 27, 'input_token_details': {'audio': 0, 'cache_read': 0}, 'output_token_details': {'audio': 0, 'reasoning': 0}})]}"
      ]
     },
     "execution_count": 29,
     "metadata": {},
     "output_type": "execute_result"
    }
   ],
   "source": [
    "graph.invoke({\"messages\": [HumanMessage(content=\"Hi, I am mahadev\")]}, config=config)"
   ]
  },
  {
   "cell_type": "code",
   "execution_count": 30,
   "id": "df19306c",
   "metadata": {},
   "outputs": [],
   "source": [
    "graph.get_state(config).values.get(\"summary\")"
   ]
  },
  {
   "cell_type": "code",
   "execution_count": 32,
   "id": "e46b0dde",
   "metadata": {},
   "outputs": [
    {
     "data": {
      "text/plain": [
       "{'messages': [HumanMessage(content='Hi, I am mahadev', additional_kwargs={}, response_metadata={}, id='646ffb5a-64fb-4f0c-8174-b2a588d2688e'),\n",
       "  AIMessage(content='Hello Mahadev, how can I assist you today?', additional_kwargs={'refusal': None}, response_metadata={'token_usage': {'completion_tokens': 13, 'prompt_tokens': 14, 'total_tokens': 27, 'completion_tokens_details': {'accepted_prediction_tokens': 0, 'audio_tokens': 0, 'reasoning_tokens': 0, 'rejected_prediction_tokens': 0}, 'prompt_tokens_details': {'audio_tokens': 0, 'cached_tokens': 0}}, 'model_name': 'gpt-3.5-turbo-0125', 'system_fingerprint': None, 'id': 'chatcmpl-BWeiX7r1zfoZc7HZzdgvlzb431MFY', 'service_tier': 'default', 'finish_reason': 'stop', 'logprobs': None}, id='run--fee9e99e-9318-4ba9-a15b-be89e2feeedb-0', usage_metadata={'input_tokens': 14, 'output_tokens': 13, 'total_tokens': 27, 'input_token_details': {'audio': 0, 'cache_read': 0}, 'output_token_details': {'audio': 0, 'reasoning': 0}}),\n",
       "  HumanMessage(content='How is 49er doing', additional_kwargs={}, response_metadata={}, id='39cae1e2-9ef1-45c0-b888-4804140610cf'),\n",
       "  AIMessage(content=\"I'm not sure which specific 49er you are referring to. Could you please provide more context or details so I can better assist you?\", additional_kwargs={'refusal': None}, response_metadata={'token_usage': {'completion_tokens': 30, 'prompt_tokens': 40, 'total_tokens': 70, 'completion_tokens_details': {'accepted_prediction_tokens': 0, 'audio_tokens': 0, 'reasoning_tokens': 0, 'rejected_prediction_tokens': 0}, 'prompt_tokens_details': {'audio_tokens': 0, 'cached_tokens': 0}}, 'model_name': 'gpt-3.5-turbo-0125', 'system_fingerprint': None, 'id': 'chatcmpl-BWej5iwONgwlm8rNOhJilI98yDvc3', 'service_tier': 'default', 'finish_reason': 'stop', 'logprobs': None}, id='run--dab8c979-2dcc-4fb6-948d-d4bcc9d46c34-0', usage_metadata={'input_tokens': 40, 'output_tokens': 30, 'total_tokens': 70, 'input_token_details': {'audio': 0, 'cache_read': 0}, 'output_token_details': {'audio': 0, 'reasoning': 0}}),\n",
       "  HumanMessage(content='How is 49er doing', additional_kwargs={}, response_metadata={}, id='1c276bc1-f9b7-403b-b554-8f12c9da7423'),\n",
       "  AIMessage(content='If you are referring to the San Francisco 49ers, they are a professional American football team in the National Football League (NFL). As of my last update, they have had a successful season and are currently competing in the NFL playoffs. Is there anything specific you would like to know about their performance or status?', additional_kwargs={'refusal': None}, response_metadata={'token_usage': {'completion_tokens': 64, 'prompt_tokens': 83, 'total_tokens': 147, 'completion_tokens_details': {'accepted_prediction_tokens': 0, 'audio_tokens': 0, 'reasoning_tokens': 0, 'rejected_prediction_tokens': 0}, 'prompt_tokens_details': {'audio_tokens': 0, 'cached_tokens': 0}}, 'model_name': 'gpt-3.5-turbo-0125', 'system_fingerprint': None, 'id': 'chatcmpl-BWejoK1mvdKngceciiHFOvbhBf0Rd', 'service_tier': 'default', 'finish_reason': 'stop', 'logprobs': None}, id='run--5453767e-b980-4001-9923-04bea58d8328-0', usage_metadata={'input_tokens': 83, 'output_tokens': 64, 'total_tokens': 147, 'input_token_details': {'audio': 0, 'cache_read': 0}, 'output_token_details': {'audio': 0, 'reasoning': 0}})]}"
      ]
     },
     "execution_count": 32,
     "metadata": {},
     "output_type": "execute_result"
    }
   ],
   "source": [
    "graph.invoke({\"messages\": [HumanMessage(content=\"How is 49er doing\")]}, config=config)"
   ]
  },
  {
   "cell_type": "code",
   "execution_count": null,
   "id": "625315dd",
   "metadata": {},
   "outputs": [],
   "source": []
  }
 ],
 "metadata": {
  "kernelspec": {
   "display_name": "berkeley_ai",
   "language": "python",
   "name": "berkeley_ai"
  },
  "language_info": {
   "codemirror_mode": {
    "name": "ipython",
    "version": 3
   },
   "file_extension": ".py",
   "mimetype": "text/x-python",
   "name": "python",
   "nbconvert_exporter": "python",
   "pygments_lexer": "ipython3",
   "version": "3.12.9"
  }
 },
 "nbformat": 4,
 "nbformat_minor": 5
}
