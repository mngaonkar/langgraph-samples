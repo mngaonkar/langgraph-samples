{
 "cells": [
  {
   "cell_type": "code",
   "execution_count": 38,
   "id": "107a6f9c",
   "metadata": {},
   "outputs": [],
   "source": [
    "from langchain_openai import ChatOpenAI \n",
    "from dotenv import load_dotenv\n",
    "import os\n",
    "from langgraph.prebuilt import ToolNode, tools_condition\n",
    "from langgraph.graph import StateGraph, START, END, MessagesState \n",
    "from langchain_core.messages import SystemMessage, HumanMessage\n",
    "from IPython.display import display, Image\n",
    "from langgraph.checkpoint.memory import MemorySaver\n",
    "from typing import TypedDict, Annotated\n",
    "from operator import add"
   ]
  },
  {
   "cell_type": "code",
   "execution_count": 39,
   "id": "56ed1bbb",
   "metadata": {},
   "outputs": [],
   "source": [
    "class OverallState(TypedDict):\n",
    "    input: str\n",
    "    magic_number: Annotated[int, add] # state update will be added"
   ]
  },
  {
   "cell_type": "code",
   "execution_count": 40,
   "id": "ff2a080d",
   "metadata": {},
   "outputs": [],
   "source": [
    "def node_1(state: OverallState) -> OverallState:\n",
    "    \"\"\"Node 1: Get input from the user.\"\"\"\n",
    "    state[\"input\"] = \"whats the magic number?\"\n",
    "    return state"
   ]
  },
  {
   "cell_type": "code",
   "execution_count": 41,
   "id": "d7dcec56",
   "metadata": {},
   "outputs": [],
   "source": [
    "def node_2(state: OverallState) -> OverallState:\n",
    "    state[\"magic_number\"] = 33\n",
    "    state[\"input\"] = f\"the magic number is {state['magic_number']}\"\n",
    "    return state"
   ]
  },
  {
   "cell_type": "code",
   "execution_count": 42,
   "id": "dfda6f50",
   "metadata": {},
   "outputs": [],
   "source": [
    "def node_3(state: OverallState) -> OverallState:\n",
    "    state[\"magic_number\"] = 45\n",
    "    state[\"input\"] = f\"the magic number is {state['magic_number']}\"\n",
    "    return state"
   ]
  },
  {
   "cell_type": "code",
   "execution_count": 43,
   "id": "2bd11cbe",
   "metadata": {},
   "outputs": [
    {
     "data": {
      "text/plain": [
       "<langgraph.graph.state.StateGraph at 0x115ffe810>"
      ]
     },
     "execution_count": 43,
     "metadata": {},
     "output_type": "execute_result"
    }
   ],
   "source": [
    "builder = StateGraph(OverallState)\n",
    "builder.add_node(\"node_1\", node_1)\n",
    "builder.add_node(\"node_2\", node_2)\n",
    "builder.add_node(\"node_3\", node_3)\n",
    "builder.add_edge(\"node_1\", \"node_2\")\n",
    "builder.add_edge(\"node_2\", \"node_3\")\n",
    "builder.add_edge(\"node_3\", END)\n",
    "builder.add_edge(START, \"node_1\")"
   ]
  },
  {
   "cell_type": "code",
   "execution_count": 44,
   "id": "bd4f2c2d",
   "metadata": {},
   "outputs": [],
   "source": [
    "graph = builder.compile()"
   ]
  },
  {
   "cell_type": "code",
   "execution_count": 45,
   "id": "5c74b887",
   "metadata": {},
   "outputs": [
    {
     "data": {
      "text/plain": [
       "{'input': 'the magic number is 45', 'magic_number': 78}"
      ]
     },
     "execution_count": 45,
     "metadata": {},
     "output_type": "execute_result"
    }
   ],
   "source": [
    "graph.invoke({\"input\": \"What is your name?\"}) # check magic_number addition due to state update"
   ]
  },
  {
   "cell_type": "code",
   "execution_count": null,
   "id": "cd20954d",
   "metadata": {},
   "outputs": [],
   "source": []
  },
  {
   "cell_type": "code",
   "execution_count": null,
   "id": "ee701f85",
   "metadata": {},
   "outputs": [],
   "source": []
  }
 ],
 "metadata": {
  "kernelspec": {
   "display_name": "berkeley_ai",
   "language": "python",
   "name": "berkeley_ai"
  },
  "language_info": {
   "codemirror_mode": {
    "name": "ipython",
    "version": 3
   },
   "file_extension": ".py",
   "mimetype": "text/x-python",
   "name": "python",
   "nbconvert_exporter": "python",
   "pygments_lexer": "ipython3",
   "version": "3.12.9"
  }
 },
 "nbformat": 4,
 "nbformat_minor": 5
}
