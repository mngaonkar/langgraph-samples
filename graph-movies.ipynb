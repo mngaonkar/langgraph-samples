{
 "cells": [
  {
   "cell_type": "code",
   "execution_count": 240,
   "id": "29cc1e06",
   "metadata": {},
   "outputs": [],
   "source": [
    "import getpass\n",
    "import os\n",
    "from typing import Annotated, Sequence, TypedDict\n",
    "from langchain_core.messages import BaseMessage, ToolMessage, SystemMessage\n",
    "from langchain_core.runnables import RunnableConfig\n",
    "from langgraph.graph import StateGraph, START, END, MessagesState\n",
    "from langchain_openai import ChatOpenAI\n",
    "from langgraph.checkpoint.memory import MemorySaver\n",
    "from langgraph.graph.message import add_messages\n",
    "from langgraph.prebuilt import ToolNode, tools_condition\n",
    "from langchain_community.tools import DuckDuckGoSearchRun\n",
    "from langchain_core.messages import AIMessage, HumanMessage, ToolMessage\n",
    "from dotenv import load_dotenv\n",
    "from typing import List, Union\n",
    "import logging"
   ]
  },
  {
   "cell_type": "code",
   "execution_count": 241,
   "id": "2e2df610",
   "metadata": {},
   "outputs": [],
   "source": [
    "load_dotenv()\n",
    "logger = logging.getLogger(__name__)\n",
    "logging.basicConfig(level=logging.INFO)"
   ]
  },
  {
   "cell_type": "code",
   "execution_count": 242,
   "id": "092bfd81",
   "metadata": {},
   "outputs": [],
   "source": [
    "class AgentState(TypedDict):\n",
    "    messages: Annotated[List[Union[HumanMessage, AIMessage, ToolMessage]], add_messages]"
   ]
  },
  {
   "cell_type": "code",
   "execution_count": 243,
   "id": "074cb8ba",
   "metadata": {},
   "outputs": [
    {
     "name": "stderr",
     "output_type": "stream",
     "text": [
      "INFO:__main__:description = A wrapper around DuckDuckGo Search. Useful for when you need to answer questions about current events. Input should be a search query.\n"
     ]
    }
   ],
   "source": [
    "model = ChatOpenAI(model=\"gpt-4o-mini\", temperature=0)\n",
    "search = DuckDuckGoSearchRun()\n",
    "logger.info(f\"description = {search.description}\")\n",
    "tools = [search]\n",
    "llm_with_tools = model.bind_tools(tools)"
   ]
  },
  {
   "cell_type": "code",
   "execution_count": 244,
   "id": "b6427eb8",
   "metadata": {},
   "outputs": [
    {
     "data": {
      "text/plain": [
       "{'duckduckgo_search': DuckDuckGoSearchRun(api_wrapper=DuckDuckGoSearchAPIWrapper(region='wt-wt', safesearch='moderate', time='y', max_results=5, backend='auto', source='text'))}"
      ]
     },
     "execution_count": 244,
     "metadata": {},
     "output_type": "execute_result"
    }
   ],
   "source": [
    "tool_by_name = {tool.name: tool for tool in tools}\n",
    "tool_by_name"
   ]
  },
  {
   "cell_type": "code",
   "execution_count": 245,
   "id": "5d0b5e49",
   "metadata": {},
   "outputs": [
    {
     "name": "stderr",
     "output_type": "stream",
     "text": [
      "/opt/miniconda3/envs/berkeley_ai/lib/python3.12/site-packages/langchain_community/utilities/duckduckgo_search.py:63: RuntimeWarning: This package (`duckduckgo_search`) has been renamed to `ddgs`! Use `pip install ddgs` instead.\n",
      "  with DDGS() as ddgs:\n",
      "INFO:primp:response: https://www.bing.com/search?q=top+10+horror+movies+to+watch%3F&filters=ex1%3A%22ez5_19972_20337%22 200\n",
      "DEBUG:duckduckgo_search.DDGS:_get_url() https://www.bing.com/search?q=top+10+horror+movies+to+watch%3F&filters=ex1%3A%22ez5_19972_20337%22 200\n"
     ]
    },
    {
     "name": "stdout",
     "output_type": "stream",
     "text": [
      "No good DuckDuckGo Search Result was found\n"
     ]
    }
   ],
   "source": [
    "result = search.invoke(\"top 10 horror movies to watch?\")\n",
    "print(result)"
   ]
  },
  {
   "cell_type": "code",
   "execution_count": 246,
   "id": "97346e57",
   "metadata": {},
   "outputs": [],
   "source": [
    "def call_model(state: AgentState, config: RunnableConfig):\n",
    "    system_prompt = SystemMessage(\"You are a helpful AI assistant that searches the web.\"\n",
    "        \"Use the search tool duckduckgo_search to query the web for relevant information.\"\n",
    "    )\n",
    "    # system_prompt = SystemMessage(\"\")\n",
    "    response = llm_with_tools.invoke([system_prompt] + list(state[\"messages\"]), config=config)\n",
    "    logger.debug(f\"Model response: {response}\")\n",
    "    return {\"messages\": [response]}\n"
   ]
  },
  {
   "cell_type": "code",
   "execution_count": 247,
   "id": "6272570b",
   "metadata": {},
   "outputs": [],
   "source": [
    "def tool_node(state: AgentState, config: RunnableConfig):\n",
    "   logger.info(f\"Invoking tools for {state['messages'][-1].tool_calls}\")\n",
    "   outputs = []\n",
    "   for tool_call in state[\"messages\"][-1].tool_calls:\n",
    "      logger.info(f\"tool call: {tool_call}\")\n",
    "      tool_result = tool_by_name[tool_call[\"name\"]].invoke(tool_call[\"args\"], config=config)\n",
    "      logger.info(f\"Tool {tool_call[\"name\"]} returned {tool_result}\")\n",
    "      outputs.append(ToolMessage(\n",
    "         content=str(tool_result),\n",
    "         name=tool_call[\"name\"],\n",
    "         tool_call_id=tool_call[\"id\"]\n",
    "      ))\n",
    "\n",
    "   return {\"messages\": outputs}"
   ]
  },
  {
   "cell_type": "code",
   "execution_count": 248,
   "id": "7c099ede",
   "metadata": {},
   "outputs": [],
   "source": [
    "def should_continue(state: AgentState) -> bool:\n",
    "    messages = state[\"messages\"]\n",
    "    last_message = messages[-1]\n",
    "    if not last_message.tool_calls:\n",
    "        logger.info(\"No tool calls, ending\")\n",
    "        return \"end\"\n",
    "    else:\n",
    "        return \"continue\""
   ]
  },
  {
   "cell_type": "code",
   "execution_count": 249,
   "id": "666005ce",
   "metadata": {},
   "outputs": [
    {
     "data": {
      "text/plain": [
       "<langgraph.graph.state.StateGraph at 0x149efc680>"
      ]
     },
     "execution_count": 249,
     "metadata": {},
     "output_type": "execute_result"
    }
   ],
   "source": [
    "workflow = StateGraph(AgentState)\n",
    "workflow.add_node(\"agent\", call_model)\n",
    "workflow.add_node(\"tools\", tool_node)\n",
    "workflow.add_edge(START, \"agent\")\n",
    "workflow.add_conditional_edges(\"agent\", should_continue, {\"continue\": \"tools\", \"end\": END})\n",
    "workflow.add_edge(\"tools\", \"agent\")"
   ]
  },
  {
   "cell_type": "code",
   "execution_count": 250,
   "id": "b2fda896",
   "metadata": {},
   "outputs": [],
   "source": [
    "memory = MemorySaver()\n",
    "graph = workflow.compile(checkpointer=memory)\n",
    "config = {\"configurable\": {\"thread_id\": \"thread_1\"}}"
   ]
  },
  {
   "cell_type": "code",
   "execution_count": null,
   "id": "01b64ea9",
   "metadata": {},
   "outputs": [
    {
     "name": "stderr",
     "output_type": "stream",
     "text": [
      "DEBUG:openai._base_client:Request options: {'method': 'post', 'url': '/chat/completions', 'files': None, 'idempotency_key': 'stainless-python-retry-bf2bf7a8-5feb-46ea-b69e-53f432076bfc', 'json_data': {'messages': [{'content': 'You are a helpful AI assistant that searches the web.Use the search tool duckduckgo_search to query the web for relevant information.', 'role': 'system'}, {'content': 'search the capital of Japan', 'role': 'user'}], 'model': 'gpt-4o-mini', 'stream': False, 'temperature': 0.0, 'tools': [{'type': 'function', 'function': {'name': 'duckduckgo_search', 'description': 'A wrapper around DuckDuckGo Search. Useful for when you need to answer questions about current events. Input should be a search query.', 'parameters': {'properties': {'query': {'description': 'search query to look up', 'type': 'string'}}, 'required': ['query'], 'type': 'object'}}}]}}\n",
      "DEBUG:openai._base_client:Sending HTTP Request: POST https://api.openai.com/v1/chat/completions\n",
      "DEBUG:httpcore.connection:connect_tcp.started host='api.openai.com' port=443 local_address=None timeout=None socket_options=None\n",
      "DEBUG:httpcore.connection:connect_tcp.complete return_value=<httpcore._backends.sync.SyncStream object at 0x16a778b00>\n",
      "DEBUG:httpcore.connection:start_tls.started ssl_context=<ssl.SSLContext object at 0x149e0e0d0> server_hostname='api.openai.com' timeout=None\n",
      "DEBUG:httpcore.connection:start_tls.complete return_value=<httpcore._backends.sync.SyncStream object at 0x149effd70>\n",
      "DEBUG:httpcore.http11:send_request_headers.started request=<Request [b'POST']>\n",
      "DEBUG:httpcore.http11:send_request_headers.complete\n",
      "DEBUG:httpcore.http11:send_request_body.started request=<Request [b'POST']>\n",
      "DEBUG:httpcore.http11:send_request_body.complete\n",
      "DEBUG:httpcore.http11:receive_response_headers.started request=<Request [b'POST']>\n",
      "DEBUG:httpcore.http11:receive_response_headers.complete return_value=(b'HTTP/1.1', 200, b'OK', [(b'Date', b'Sat, 06 Sep 2025 07:56:01 GMT'), (b'Content-Type', b'application/json'), (b'Transfer-Encoding', b'chunked'), (b'Connection', b'keep-alive'), (b'access-control-expose-headers', b'X-Request-ID'), (b'openai-organization', b'user-t70dqeegcqtrss9sgyw2d2z1'), (b'openai-processing-ms', b'736'), (b'openai-project', b'proj_2YRb5mGYZ4D0sqsHYOfxnRbO'), (b'openai-version', b'2020-10-01'), (b'x-envoy-upstream-service-time', b'738'), (b'x-ratelimit-limit-requests', b'10000'), (b'x-ratelimit-limit-tokens', b'200000'), (b'x-ratelimit-remaining-requests', b'9999'), (b'x-ratelimit-remaining-tokens', b'199957'), (b'x-ratelimit-reset-requests', b'8.64s'), (b'x-ratelimit-reset-tokens', b'12ms'), (b'x-request-id', b'req_de4c569e51334e789f683654df400950'), (b'cf-cache-status', b'DYNAMIC'), (b'Set-Cookie', b'__cf_bm=6QLyrxDjmJr2XFHaP8C8y3xSsdeqZYNiCMDnijMd3XI-1757145361-1.0.1.1-094ejhdqY6DpN3gBtdIRWMz3zl13YH0v4lT9PMRfdN6.oOkPQ0qIPlxWLtu9PAdNFIDnzm_n7f.o2r4m9UaP9Y9oEH01faZFmLl640uFVgI; path=/; expires=Sat, 06-Sep-25 08:26:01 GMT; domain=.api.openai.com; HttpOnly; Secure; SameSite=None'), (b'Strict-Transport-Security', b'max-age=31536000; includeSubDomains; preload'), (b'X-Content-Type-Options', b'nosniff'), (b'Set-Cookie', b'_cfuvid=YANZqhnNeWDfcDAqBomFGweeLmOyr8IdcWRpAAhcBhU-1757145361598-0.0.1.1-604800000; path=/; domain=.api.openai.com; HttpOnly; Secure; SameSite=None'), (b'Server', b'cloudflare'), (b'CF-RAY', b'97ac6848ef387c33-LAX'), (b'Content-Encoding', b'br'), (b'alt-svc', b'h3=\":443\"; ma=86400')])\n",
      "INFO:httpx:HTTP Request: POST https://api.openai.com/v1/chat/completions \"HTTP/1.1 200 OK\"\n",
      "DEBUG:httpcore.http11:receive_response_body.started request=<Request [b'POST']>\n",
      "DEBUG:httpcore.http11:receive_response_body.complete\n",
      "DEBUG:httpcore.http11:response_closed.started\n",
      "DEBUG:httpcore.http11:response_closed.complete\n",
      "DEBUG:openai._base_client:HTTP Response: POST https://api.openai.com/v1/chat/completions \"200 OK\" Headers([('date', 'Sat, 06 Sep 2025 07:56:01 GMT'), ('content-type', 'application/json'), ('transfer-encoding', 'chunked'), ('connection', 'keep-alive'), ('access-control-expose-headers', 'X-Request-ID'), ('openai-organization', 'user-t70dqeegcqtrss9sgyw2d2z1'), ('openai-processing-ms', '736'), ('openai-project', 'proj_2YRb5mGYZ4D0sqsHYOfxnRbO'), ('openai-version', '2020-10-01'), ('x-envoy-upstream-service-time', '738'), ('x-ratelimit-limit-requests', '10000'), ('x-ratelimit-limit-tokens', '200000'), ('x-ratelimit-remaining-requests', '9999'), ('x-ratelimit-remaining-tokens', '199957'), ('x-ratelimit-reset-requests', '8.64s'), ('x-ratelimit-reset-tokens', '12ms'), ('x-request-id', 'req_de4c569e51334e789f683654df400950'), ('cf-cache-status', 'DYNAMIC'), ('set-cookie', '__cf_bm=6QLyrxDjmJr2XFHaP8C8y3xSsdeqZYNiCMDnijMd3XI-1757145361-1.0.1.1-094ejhdqY6DpN3gBtdIRWMz3zl13YH0v4lT9PMRfdN6.oOkPQ0qIPlxWLtu9PAdNFIDnzm_n7f.o2r4m9UaP9Y9oEH01faZFmLl640uFVgI; path=/; expires=Sat, 06-Sep-25 08:26:01 GMT; domain=.api.openai.com; HttpOnly; Secure; SameSite=None'), ('strict-transport-security', 'max-age=31536000; includeSubDomains; preload'), ('x-content-type-options', 'nosniff'), ('set-cookie', '_cfuvid=YANZqhnNeWDfcDAqBomFGweeLmOyr8IdcWRpAAhcBhU-1757145361598-0.0.1.1-604800000; path=/; domain=.api.openai.com; HttpOnly; Secure; SameSite=None'), ('server', 'cloudflare'), ('cf-ray', '97ac6848ef387c33-LAX'), ('content-encoding', 'br'), ('alt-svc', 'h3=\":443\"; ma=86400')])\n",
      "DEBUG:openai._base_client:request_id: req_de4c569e51334e789f683654df400950\n",
      "DEBUG:__main__:Model response: content='' additional_kwargs={'tool_calls': [{'id': 'call_P4fSLtTYqItxRAyWQBhKG6Fo', 'function': {'arguments': '{\"query\":\"capital of Japan\"}', 'name': 'duckduckgo_search'}, 'type': 'function'}], 'refusal': None} response_metadata={'token_usage': {'completion_tokens': 19, 'prompt_tokens': 104, 'total_tokens': 123, 'completion_tokens_details': {'accepted_prediction_tokens': 0, 'audio_tokens': 0, 'reasoning_tokens': 0, 'rejected_prediction_tokens': 0}, 'prompt_tokens_details': {'audio_tokens': 0, 'cached_tokens': 0}}, 'model_name': 'gpt-4o-mini-2024-07-18', 'system_fingerprint': 'fp_8bda4d3a2c', 'id': 'chatcmpl-CCi48Xx2fbIvWXHgyShc5Ka77MlPr', 'service_tier': 'default', 'finish_reason': 'tool_calls', 'logprobs': None} id='run--b9a4c280-22a3-4010-a2b0-cba01e05affa-0' tool_calls=[{'name': 'duckduckgo_search', 'args': {'query': 'capital of Japan'}, 'id': 'call_P4fSLtTYqItxRAyWQBhKG6Fo', 'type': 'tool_call'}] usage_metadata={'input_tokens': 104, 'output_tokens': 19, 'total_tokens': 123, 'input_token_details': {'audio': 0, 'cache_read': 0}, 'output_token_details': {'audio': 0, 'reasoning': 0}}\n",
      "INFO:__main__:Invoking tools for [{'name': 'duckduckgo_search', 'args': {'query': 'capital of Japan'}, 'id': 'call_P4fSLtTYqItxRAyWQBhKG6Fo', 'type': 'tool_call'}]\n",
      "INFO:__main__:tool call: {'name': 'duckduckgo_search', 'args': {'query': 'capital of Japan'}, 'id': 'call_P4fSLtTYqItxRAyWQBhKG6Fo', 'type': 'tool_call'}\n",
      "/opt/miniconda3/envs/berkeley_ai/lib/python3.12/site-packages/langchain_community/utilities/duckduckgo_search.py:63: RuntimeWarning: This package (`duckduckgo_search`) has been renamed to `ddgs`! Use `pip install ddgs` instead.\n",
      "  with DDGS() as ddgs:\n",
      "INFO:primp:response: https://www.bing.com/search?q=capital+of+Japan&filters=ex1%3A%22ez5_19972_20337%22 200\n",
      "DEBUG:duckduckgo_search.DDGS:_get_url() https://www.bing.com/search?q=capital+of+Japan&filters=ex1%3A%22ez5_19972_20337%22 200\n",
      "INFO:__main__:Tool duckduckgo_search returned May 2, 2015 · Tokyo became Japan's capital in 1869, after the end of the Boshin war, in which the Tokugawa Shogunate was defeated and direct Imperial rule restored. Edo, as it was known … May 13, 2021 · So they are pronounced differently in Japanese. Kyoto means Capital City, while Tokyo means East Capital. Kyo means capital in both cases; but To is just a coincidence. Since … Nov 5, 2021 · 東京 = ‘tōkyō’ or “eastern capital”. This differentiates it from 京都 “kyōto”, the previous capital. This was than borrowed back into Chinese, where they applied the Chinese … Before the 17th century, Tokyo, then known as Edo, was mainly a fishing village. It gained political prominence in 1603 when it became the seat of the Tokugawa shogunate. By the mid-18th … Jan 5, 2024 · You can clearly see this by pulling out a topographical or satelite map of Japan. Of course since people 400 years ago didn't know why earthquakes occurred, they didn't pick …\n",
      "DEBUG:openai._base_client:Request options: {'method': 'post', 'url': '/chat/completions', 'files': None, 'idempotency_key': 'stainless-python-retry-ad6ec789-ce71-488a-b1dc-6938f5a2686e', 'json_data': {'messages': [{'content': 'You are a helpful AI assistant that searches the web.Use the search tool duckduckgo_search to query the web for relevant information.', 'role': 'system'}, {'content': 'search the capital of Japan', 'role': 'user'}, {'content': None, 'role': 'assistant', 'tool_calls': [{'type': 'function', 'id': 'call_P4fSLtTYqItxRAyWQBhKG6Fo', 'function': {'name': 'duckduckgo_search', 'arguments': '{\"query\": \"capital of Japan\"}'}}]}, {'content': \"May 2, 2015 · Tokyo became Japan's capital in 1869, after the end of the Boshin war, in which the Tokugawa Shogunate was defeated and direct Imperial rule restored. Edo, as it was known … May 13, 2021 · So they are pronounced differently in Japanese. Kyoto means Capital City, while Tokyo means East Capital. Kyo means capital in both cases; but To is just a coincidence. Since … Nov 5, 2021 · 東京 = ‘tōkyō’ or “eastern capital”. This differentiates it from 京都 “kyōto”, the previous capital. This was than borrowed back into Chinese, where they applied the Chinese … Before the 17th century, Tokyo, then known as Edo, was mainly a fishing village. It gained political prominence in 1603 when it became the seat of the Tokugawa shogunate. By the mid-18th … Jan 5, 2024 · You can clearly see this by pulling out a topographical or satelite map of Japan. Of course since people 400 years ago didn't know why earthquakes occurred, they didn't pick …\", 'role': 'tool', 'tool_call_id': 'call_P4fSLtTYqItxRAyWQBhKG6Fo'}], 'model': 'gpt-4o-mini', 'stream': False, 'temperature': 0.0, 'tools': [{'type': 'function', 'function': {'name': 'duckduckgo_search', 'description': 'A wrapper around DuckDuckGo Search. Useful for when you need to answer questions about current events. Input should be a search query.', 'parameters': {'properties': {'query': {'description': 'search query to look up', 'type': 'string'}}, 'required': ['query'], 'type': 'object'}}}]}}\n",
      "DEBUG:openai._base_client:Sending HTTP Request: POST https://api.openai.com/v1/chat/completions\n",
      "DEBUG:httpcore.http11:send_request_headers.started request=<Request [b'POST']>\n",
      "DEBUG:httpcore.http11:send_request_headers.complete\n",
      "DEBUG:httpcore.http11:send_request_body.started request=<Request [b'POST']>\n",
      "DEBUG:httpcore.http11:send_request_body.complete\n",
      "DEBUG:httpcore.http11:receive_response_headers.started request=<Request [b'POST']>\n",
      "DEBUG:httpcore.http11:receive_response_headers.complete return_value=(b'HTTP/1.1', 200, b'OK', [(b'Date', b'Sat, 06 Sep 2025 07:56:02 GMT'), (b'Content-Type', b'application/json'), (b'Transfer-Encoding', b'chunked'), (b'Connection', b'keep-alive'), (b'access-control-expose-headers', b'X-Request-ID'), (b'openai-organization', b'user-t70dqeegcqtrss9sgyw2d2z1'), (b'openai-processing-ms', b'1016'), (b'openai-project', b'proj_2YRb5mGYZ4D0sqsHYOfxnRbO'), (b'openai-version', b'2020-10-01'), (b'x-envoy-upstream-service-time', b'1018'), (b'x-ratelimit-limit-requests', b'10000'), (b'x-ratelimit-limit-tokens', b'200000'), (b'x-ratelimit-remaining-requests', b'9998'), (b'x-ratelimit-remaining-tokens', b'199709'), (b'x-ratelimit-reset-requests', b'16.217s'), (b'x-ratelimit-reset-tokens', b'87ms'), (b'x-request-id', b'req_3fdb5785cab0481b8a703a9234b60a83'), (b'cf-cache-status', b'DYNAMIC'), (b'Strict-Transport-Security', b'max-age=31536000; includeSubDomains; preload'), (b'X-Content-Type-Options', b'nosniff'), (b'Server', b'cloudflare'), (b'CF-RAY', b'97ac684f89427c33-LAX'), (b'Content-Encoding', b'br'), (b'alt-svc', b'h3=\":443\"; ma=86400')])\n",
      "INFO:httpx:HTTP Request: POST https://api.openai.com/v1/chat/completions \"HTTP/1.1 200 OK\"\n",
      "DEBUG:httpcore.http11:receive_response_body.started request=<Request [b'POST']>\n",
      "DEBUG:httpcore.http11:receive_response_body.complete\n",
      "DEBUG:httpcore.http11:response_closed.started\n",
      "DEBUG:httpcore.http11:response_closed.complete\n",
      "DEBUG:openai._base_client:HTTP Response: POST https://api.openai.com/v1/chat/completions \"200 OK\" Headers({'date': 'Sat, 06 Sep 2025 07:56:02 GMT', 'content-type': 'application/json', 'transfer-encoding': 'chunked', 'connection': 'keep-alive', 'access-control-expose-headers': 'X-Request-ID', 'openai-organization': 'user-t70dqeegcqtrss9sgyw2d2z1', 'openai-processing-ms': '1016', 'openai-project': 'proj_2YRb5mGYZ4D0sqsHYOfxnRbO', 'openai-version': '2020-10-01', 'x-envoy-upstream-service-time': '1018', 'x-ratelimit-limit-requests': '10000', 'x-ratelimit-limit-tokens': '200000', 'x-ratelimit-remaining-requests': '9998', 'x-ratelimit-remaining-tokens': '199709', 'x-ratelimit-reset-requests': '16.217s', 'x-ratelimit-reset-tokens': '87ms', 'x-request-id': 'req_3fdb5785cab0481b8a703a9234b60a83', 'cf-cache-status': 'DYNAMIC', 'strict-transport-security': 'max-age=31536000; includeSubDomains; preload', 'x-content-type-options': 'nosniff', 'server': 'cloudflare', 'cf-ray': '97ac684f89427c33-LAX', 'content-encoding': 'br', 'alt-svc': 'h3=\":443\"; ma=86400'})\n",
      "DEBUG:openai._base_client:request_id: req_3fdb5785cab0481b8a703a9234b60a83\n",
      "DEBUG:__main__:Model response: content='The capital of Japan is Tokyo. It became the capital in 1869, following the end of the Boshin War, which restored direct Imperial rule after the defeat of the Tokugawa Shogunate. Before Tokyo, the capital was Kyoto.' additional_kwargs={'refusal': None} response_metadata={'token_usage': {'completion_tokens': 52, 'prompt_tokens': 373, 'total_tokens': 425, 'completion_tokens_details': {'accepted_prediction_tokens': 0, 'audio_tokens': 0, 'reasoning_tokens': 0, 'rejected_prediction_tokens': 0}, 'prompt_tokens_details': {'audio_tokens': 0, 'cached_tokens': 0}}, 'model_name': 'gpt-4o-mini-2024-07-18', 'system_fingerprint': 'fp_8bda4d3a2c', 'id': 'chatcmpl-CCi49GpIrfsXzkbSXKk3MPkdDG6lD', 'service_tier': 'default', 'finish_reason': 'stop', 'logprobs': None} id='run--2755e24b-f378-4d64-a9bd-508f80ee80b8-0' usage_metadata={'input_tokens': 373, 'output_tokens': 52, 'total_tokens': 425, 'input_token_details': {'audio': 0, 'cache_read': 0}, 'output_token_details': {'audio': 0, 'reasoning': 0}}\n",
      "INFO:__main__:No tool calls, ending\n"
     ]
    }
   ],
   "source": [
    "response = graph.invoke({\n",
    "    \"messages\": [HumanMessage(content=\"search top 10 horror movies to watch?\")]\n",
    "}, config=config)"
   ]
  },
  {
   "cell_type": "code",
   "execution_count": 252,
   "id": "00b3a67a",
   "metadata": {},
   "outputs": [
    {
     "name": "stdout",
     "output_type": "stream",
     "text": [
      "The capital of Japan is Tokyo. It became the capital in 1869, following the end of the Boshin War, which restored direct Imperial rule after the defeat of the Tokugawa Shogunate. Before Tokyo, the capital was Kyoto.\n"
     ]
    }
   ],
   "source": [
    "print(response[\"messages\"][-1].content)"
   ]
  },
  {
   "cell_type": "code",
   "execution_count": null,
   "id": "78fd43c5",
   "metadata": {},
   "outputs": [],
   "source": []
  },
  {
   "cell_type": "code",
   "execution_count": null,
   "id": "8d9068f8",
   "metadata": {},
   "outputs": [],
   "source": []
  }
 ],
 "metadata": {
  "kernelspec": {
   "display_name": "berkeley_ai",
   "language": "python",
   "name": "berkeley_ai"
  },
  "language_info": {
   "codemirror_mode": {
    "name": "ipython",
    "version": 3
   },
   "file_extension": ".py",
   "mimetype": "text/x-python",
   "name": "python",
   "nbconvert_exporter": "python",
   "pygments_lexer": "ipython3",
   "version": "3.12.9"
  }
 },
 "nbformat": 4,
 "nbformat_minor": 5
}
